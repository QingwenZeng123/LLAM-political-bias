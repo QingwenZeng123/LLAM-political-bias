{
 "cells": [
  {
   "cell_type": "markdown",
   "metadata": {},
   "source": [
    "# Data Generation\n",
    "\n",
    "The data needs to contain 3 roles: system, user, and response. System is telling what is the large language model would do. User is telling the prompt that user will be passed in, and the expected response. Below is the example of data need to pass to the training. \n",
    "\n",
    "{\"messages\": [{\"role\": \"system\", \"content\": \"Marv is a factual chatbot that is also sarcastic.\"}, {\"role\": \"user\", \"content\": \"What's the capital of France?\"}, {\"role\": \"assistant\", \"content\": \"Paris, as if everyone doesn't know that already.\"}]}\n",
    "{\"messages\": [{\"role\": \"system\", \"content\": \"Marv is a factual chatbot that is also sarcastic.\"}, {\"role\": \"user\", \"content\": \"Who wrote 'Romeo and Juliet'?\"}, {\"role\": \"assistant\", \"content\": \"Oh, just some guy named William Shakespeare. Ever heard of him?\"}]}\n",
    "{\"messages\": [{\"role\": \"system\", \"content\": \"Marv is a factual chatbot that is also sarcastic.\"}, {\"role\": \"user\", \"content\": \"How far is the Moon from Earth?\"}, {\"role\": \"assistant\", \"content\": \"Around 384,400 kilometers. Give or take a few, like that really matters.\"}]}"
   ]
  },
  {
   "cell_type": "code",
   "execution_count": 9,
   "metadata": {},
   "outputs": [
    {
     "name": "stdout",
     "output_type": "stream",
     "text": [
      "article_info {0: ['is-biased', 'is-not-biased', 'is-biased', 'is-biased', 'is-biased', 'is-not-biased', 'is-biased', 'is-biased', 'is-biased', 'is-not-biased', 'is-biased', 'is-biased', 'is-not-biased', 'is-biased', 'is-biased', 'is-not-biased', 'is-biased', 'is-biased', 'is-biased', 'is-biased', 'is-biased', 'is-not-biased', 'is-not-biased', 'is-biased', 'is-biased', 'is-biased', 'is-biased'], 1: ['is-biased', 'is-biased', 'is-biased', 'is-not-biased', 'is-biased', 'is-biased', 'is-not-biased', 'is-biased', 'is-biased', 'is-biased', 'is-not-biased', 'is-biased', 'is-biased', 'is-not-biased', 'is-not-biased', 'is-biased', 'is-biased', 'is-not-biased'], 2: ['is-biased', 'is-biased', 'is-biased', 'is-biased', 'is-biased', 'is-biased', 'is-biased', 'is-biased'], 3: ['is-biased', 'is-biased', 'is-biased', 'is-not-biased', 'is-not-biased', 'is-not-biased', 'is-biased', 'is-not-biased', 'is-biased', 'is-not-biased', 'is-biased', 'is-not-biased', 'is-biased'], 4: ['is-biased', 'is-biased'], 5: ['is-biased', 'is-not-biased', 'is-not-biased', 'is-not-biased', 'is-biased', 'is-biased', 'is-not-biased', 'is-biased', 'is-biased', 'is-biased', 'is-biased', 'is-biased', 'is-biased', 'is-biased', 'is-biased'], 6: ['is-biased', 'is-not-biased', 'is-biased', 'is-biased', 'is-not-biased', 'is-not-biased', 'is-biased'], 7: ['is-not-biased', 'is-biased', 'is-biased', 'is-not-biased', 'is-not-biased', 'is-biased', 'is-biased', 'is-biased', 'is-biased', 'is-biased', 'is-not-biased', 'is-not-biased', 'is-not-biased', 'is-biased', 'is-not-biased', 'is-biased', 'is-not-biased', 'is-not-biased', 'is-not-biased', 'is-biased', 'is-not-biased', 'is-biased', 'is-not-biased', 'is-not-biased'], 8: ['is-biased', 'is-biased', 'is-biased', 'is-not-biased', 'is-not-biased', 'is-biased', 'is-biased'], 9: ['is-biased', 'is-biased', 'is-not-biased', 'is-biased', 'is-biased', 'is-biased', 'is-biased'], 10: ['is-biased', 'is-biased', 'is-biased', 'is-biased', 'is-biased', 'is-not-biased', 'is-biased'], 11: ['is-biased', 'is-biased', 'is-biased', 'is-biased', 'is-not-biased', 'is-biased', 'is-not-biased', 'is-not-biased', 'is-not-biased'], 12: ['is-not-biased', 'is-not-biased', 'is-not-biased', 'is-not-biased', 'is-not-biased', 'is-biased', 'is-biased', 'is-biased', 'is-biased', 'is-not-biased'], 13: ['is-not-biased', 'is-not-biased', 'is-biased', 'is-biased', 'is-biased', 'is-biased', 'is-biased'], 14: ['is-biased', 'is-biased', 'is-biased', 'is-not-biased', 'is-biased', 'is-not-biased', 'is-biased', 'is-biased', 'is-not-biased', 'is-not-biased', 'is-biased', 'is-not-biased', 'is-biased', 'is-not-biased', 'is-biased', 'is-biased', 'is-biased', 'is-not-biased', 'is-not-biased', 'is-not-biased', 'is-biased', 'is-not-biased', 'is-biased', 'is-biased', 'is-biased', 'is-not-biased', 'is-biased', 'is-biased', 'is-biased', 'is-biased', 'is-biased', 'is-biased', 'is-not-biased', 'is-biased', 'is-not-biased', 'is-biased', 'is-biased'], 15: ['is-not-biased', 'is-biased', 'is-biased', 'is-biased', 'is-biased', 'is-biased', 'is-biased', 'is-biased', 'is-not-biased'], 16: ['is-biased', 'is-biased', 'is-biased', 'is-biased', 'is-not-biased', 'is-biased', 'is-biased', 'is-biased', 'is-biased', 'is-biased', 'is-biased', 'is-not-biased', 'is-not-biased', 'is-not-biased', 'is-biased'], 17: ['is-biased', 'is-biased', 'is-biased', 'is-not-biased', 'is-not-biased', 'is-biased', 'is-biased', 'is-biased', 'is-biased', 'is-biased', 'is-biased', 'is-not-biased', 'is-biased', 'is-not-biased'], 18: ['is-not-biased', 'is-biased', 'is-biased', 'is-not-biased', 'is-biased', 'is-biased', 'is-not-biased', 'is-not-biased', 'is-biased', 'is-biased', 'is-not-biased', 'is-biased', 'is-not-biased', 'is-biased', 'is-biased'], 19: ['is-biased', 'is-biased', 'is-not-biased', 'is-biased', 'is-biased', 'is-biased', 'is-biased', 'is-not-biased', 'is-biased', 'is-biased', 'is-biased', 'is-biased', 'is-not-biased', 'is-biased', 'is-not-biased', 'is-biased', 'is-biased', 'is-biased', 'is-biased', 'is-biased'], 20: ['is-biased', 'is-biased', 'is-biased', 'is-not-biased', 'is-biased', 'is-biased', 'is-biased', 'is-not-biased', 'is-biased'], 21: ['is-biased', 'is-biased', 'is-not-biased', 'is-not-biased', 'is-biased', 'is-biased', 'is-biased', 'is-not-biased', 'is-biased', 'is-biased', 'is-biased', 'is-biased'], 22: ['is-biased', 'is-not-biased', 'is-biased', 'is-biased', 'is-biased', 'is-biased', 'is-biased'], 23: ['is-biased', 'is-biased', 'is-not-biased', 'is-biased'], 24: ['is-biased', 'is-biased', 'is-biased', 'is-not-biased', 'is-biased', 'is-biased', 'is-not-biased', 'is-biased', 'is-biased', 'is-biased', 'is-biased'], 25: ['is-biased', 'is-biased', 'is-biased', 'is-not-biased', 'is-biased', 'is-not-biased', 'is-not-biased', 'is-not-biased', 'is-not-biased'], 26: ['is-biased', 'is-not-biased', 'is-not-biased', 'is-biased', 'is-not-biased', 'is-biased', 'is-not-biased', 'is-biased', 'is-not-biased', 'is-not-biased', 'is-biased', 'is-biased', 'is-not-biased', 'is-not-biased', 'is-biased', 'is-not-biased', 'is-biased', 'is-biased', 'is-not-biased', 'is-not-biased', 'is-biased', 'is-biased', 'is-not-biased', 'is-not-biased', 'is-not-biased', 'is-not-biased', 'is-biased', 'is-biased', 'is-not-biased', 'is-not-biased', 'is-not-biased', 'is-biased', 'is-not-biased', 'is-not-biased', 'is-not-biased', 'is-not-biased'], 27: ['is-not-biased', 'is-not-biased', 'is-not-biased', 'is-biased', 'is-biased', 'is-not-biased', 'is-biased', 'is-biased', 'is-biased', 'is-biased'], 28: ['is-not-biased', 'is-not-biased', 'is-biased', 'is-biased', 'is-not-biased', 'is-not-biased', 'is-biased', 'is-not-biased'], 29: ['is-biased', 'is-biased', 'is-biased', 'is-biased', 'is-not-biased', 'is-not-biased', 'is-not-biased', 'is-not-biased'], 30: ['is-biased', 'is-biased', 'is-biased', 'is-not-biased', 'is-biased', 'is-not-biased', 'is-biased', 'is-biased', 'is-biased', 'is-not-biased', 'is-biased'], 31: ['is-biased', 'is-not-biased', 'is-biased', 'is-not-biased', 'is-biased'], 32: ['is-biased', 'is-biased', 'is-biased', 'is-biased', 'is-biased', 'is-biased', 'is-not-biased', 'is-biased', 'is-biased', 'is-biased', 'is-not-biased', 'is-biased', 'is-biased', 'is-biased', 'is-biased', 'is-biased'], 33: ['is-biased', 'is-biased', 'is-not-biased'], 34: ['is-not-biased', 'is-biased', 'is-not-biased', 'is-biased', 'is-not-biased', 'is-biased', 'is-biased'], 35: ['is-not-biased', 'is-biased', 'is-not-biased', 'is-biased', 'is-not-biased', 'is-biased', 'is-biased', 'is-biased', 'is-biased', 'is-biased', 'is-biased', 'is-biased', 'is-not-biased', 'is-biased', 'is-biased'], 36: ['is-not-biased', 'is-biased', 'is-biased', 'is-not-biased', 'is-biased', 'is-not-biased', 'is-not-biased', 'is-not-biased', 'is-not-biased', 'is-biased', 'is-not-biased', 'is-biased', 'is-biased', 'is-not-biased', 'is-biased', 'is-not-biased', 'is-biased', 'is-biased', 'is-biased', 'is-biased'], 37: ['is-biased', 'is-biased', 'is-biased', 'is-biased'], 38: ['is-not-biased', 'is-biased', 'is-not-biased', 'is-biased', 'is-biased', 'is-biased', 'is-not-biased'], 39: ['is-not-biased', 'is-biased', 'is-biased', 'is-not-biased', 'is-biased', 'is-biased', 'is-biased', 'is-not-biased', 'is-biased', 'is-biased', 'is-biased', 'is-biased', 'is-not-biased', 'is-biased', 'is-biased', 'is-not-biased', 'is-biased', 'is-biased', 'is-biased', 'is-not-biased'], 40: ['is-biased', 'is-biased', 'is-biased', 'is-biased', 'is-biased', 'is-biased', 'is-biased', 'is-biased'], 41: ['is-biased', 'is-biased', 'is-biased', 'is-biased', 'is-biased', 'is-not-biased', 'is-biased', 'is-biased', 'is-biased', 'is-not-biased', 'is-not-biased', 'is-biased', 'is-biased', 'is-biased', 'is-biased', 'is-not-biased', 'is-biased', 'is-biased'], 42: ['is-biased', 'is-not-biased', 'is-biased', 'is-biased', 'is-biased'], 43: ['is-biased', 'is-not-biased', 'is-not-biased', 'is-biased', 'is-biased'], 44: ['is-biased', 'is-not-biased', 'is-biased', 'is-biased', 'is-not-biased', 'is-not-biased', 'is-not-biased'], 45: ['is-biased', 'is-biased', 'is-biased', 'is-biased', 'is-biased', 'is-not-biased', 'is-biased', 'is-biased', 'is-not-biased', 'is-not-biased'], 46: ['is-biased', 'is-biased', 'is-biased', 'is-not-biased', 'is-biased', 'is-not-biased', 'is-biased', 'is-biased', 'is-not-biased'], 47: ['is-biased', 'is-biased', 'is-biased', 'is-biased', 'is-not-biased', 'is-biased'], 48: ['is-not-biased', 'is-not-biased', 'is-not-biased', 'is-biased', 'is-not-biased', 'is-biased', 'is-biased', 'is-biased', 'is-biased', 'is-not-biased', 'is-biased', 'is-biased'], 49: ['is-not-biased', 'is-biased', 'is-biased', 'is-not-biased', 'is-not-biased', 'is-biased', 'is-not-biased', 'is-biased', 'is-not-biased', 'is-not-biased', 'is-biased', 'is-biased', 'is-biased', 'is-biased', 'is-not-biased'], 50: ['is-biased', 'is-biased', 'is-biased', 'is-biased', 'is-biased', 'is-biased'], 51: ['is-biased', 'is-biased', 'is-biased', 'is-biased', 'is-biased', 'is-not-biased', 'is-biased', 'is-not-biased', 'is-biased', 'is-biased', 'is-not-biased', 'is-not-biased', 'is-not-biased'], 52: ['is-not-biased', 'is-not-biased', 'is-biased', 'is-biased', 'is-biased', 'is-biased', 'is-not-biased', 'is-biased', 'is-biased'], 53: ['is-not-biased', 'is-biased', 'is-not-biased', 'is-biased', 'is-biased', 'is-not-biased', 'is-biased', 'is-biased', 'is-biased', 'is-not-biased', 'is-biased', 'is-biased', 'is-biased', 'is-biased', 'is-biased', 'is-biased', 'is-biased', 'is-biased'], 54: ['is-not-biased', 'is-biased', 'is-not-biased', 'is-biased', 'is-not-biased', 'is-biased', 'is-not-biased', 'is-biased', 'is-biased', 'is-not-biased', 'is-biased', 'is-biased', 'is-biased', 'is-not-biased', 'is-biased', 'is-biased', 'is-not-biased', 'is-not-biased', 'is-biased', 'is-biased'], 55: ['is-not-biased', 'is-not-biased', 'is-biased', 'is-biased', 'is-biased', 'is-not-biased', 'is-biased', 'is-biased', 'is-biased', 'is-biased', 'is-not-biased', 'is-biased', 'is-not-biased', 'is-not-biased', 'is-not-biased', 'is-biased'], 56: ['is-biased', 'is-biased', 'is-not-biased', 'is-biased', 'is-biased', 'is-biased'], 57: ['is-biased', 'is-biased', 'is-biased', 'is-biased', 'is-biased', 'is-biased', 'is-biased', 'is-biased', 'is-not-biased', 'is-biased', 'is-biased'], 58: ['is-not-biased', 'is-not-biased', 'is-biased', 'is-biased', 'is-biased', 'is-biased', 'is-biased', 'is-biased', 'is-biased'], 59: ['is-biased', 'is-not-biased', 'is-biased', 'is-biased', 'is-biased', 'is-not-biased', 'is-not-biased', 'is-not-biased', 'is-not-biased'], 60: ['is-biased', 'is-not-biased', 'is-biased', 'is-biased', 'is-biased', 'is-not-biased', 'is-biased', 'is-not-biased', 'is-biased', 'is-biased'], 61: ['is-biased', 'is-biased', 'is-biased', 'is-biased', 'is-biased', 'is-biased', 'is-not-biased', 'is-biased', 'is-biased', 'is-biased', 'is-not-biased', 'is-not-biased', 'is-not-biased'], 62: ['is-biased', 'is-biased', 'is-biased', 'is-not-biased', 'is-not-biased', 'is-biased', 'is-biased', 'is-biased', 'is-biased', 'is-biased', 'is-biased', 'is-biased', 'is-biased', 'is-biased', 'is-not-biased', 'is-not-biased', 'is-biased', 'is-biased', 'is-not-biased', 'is-biased'], 63: ['is-not-biased', 'is-not-biased', 'is-biased', 'is-biased'], 64: ['is-biased', 'is-not-biased', 'is-biased', 'is-not-biased'], 65: ['is-biased', 'is-biased', 'is-biased', 'is-biased', 'is-biased', 'is-biased'], 66: ['is-biased', 'is-not-biased', 'is-biased', 'is-biased', 'is-not-biased', 'is-biased', 'is-biased', 'is-biased', 'is-biased'], 67: ['is-biased', 'is-biased', 'is-biased', 'is-biased'], 68: ['is-not-biased', 'is-not-biased', 'is-not-biased'], 69: ['is-biased', 'is-biased', 'is-biased', 'is-biased', 'is-biased', 'is-biased'], 70: ['is-biased'], 71: ['is-biased', 'is-not-biased', 'is-biased', 'is-not-biased', 'is-biased', 'is-biased', 'is-biased'], 72: ['is-biased', 'is-biased', 'is-biased', 'is-biased', 'is-biased'], 73: ['is-biased', 'is-not-biased', 'is-not-biased', 'is-biased'], 74: ['is-biased', 'is-biased', 'is-biased', 'is-biased', 'is-biased', 'is-biased', 'is-biased', 'is-biased', 'is-biased', 'is-biased'], 75: ['is-biased', 'is-biased', 'is-biased'], 76: ['is-biased', 'is-biased', 'is-not-biased', 'is-biased', 'is-biased', 'is-biased', 'is-not-biased', 'is-biased', 'is-not-biased', 'is-biased', 'is-biased'], 77: ['is-not-biased', 'is-not-biased', 'is-not-biased', 'is-not-biased', 'is-biased', 'is-not-biased', 'is-biased', 'is-not-biased', 'is-biased', 'is-biased', 'is-biased', 'is-not-biased', 'is-biased', 'is-biased', 'is-biased', 'is-not-biased', 'is-biased', 'is-biased', 'is-biased', 'is-biased', 'is-not-biased', 'is-biased', 'is-not-biased'], 78: ['is-biased', 'is-biased', 'is-not-biased', 'is-not-biased', 'is-not-biased'], 79: ['is-biased', 'is-biased', 'is-not-biased', 'is-biased', 'is-not-biased', 'is-biased', 'is-biased'], 80: ['is-not-biased', 'is-biased', 'is-biased', 'is-biased', 'is-biased', 'is-biased', 'is-biased', 'is-not-biased', 'is-not-biased', 'is-not-biased', 'is-biased', 'is-not-biased'], 81: ['is-not-biased', 'is-not-biased', 'is-not-biased', 'is-not-biased', 'is-biased', 'is-not-biased'], 82: ['is-biased', 'is-biased', 'is-biased', 'is-biased', 'is-biased', 'is-biased', 'is-biased', 'is-not-biased', 'is-not-biased'], 83: ['is-not-biased', 'is-biased', 'is-not-biased', 'is-not-biased', 'is-not-biased'], 84: ['is-biased', 'is-biased', 'is-biased', 'is-not-biased', 'is-not-biased', 'is-biased', 'is-biased', 'is-biased', 'is-biased', 'is-biased', 'is-not-biased', 'is-biased', 'is-not-biased', 'is-biased', 'is-not-biased', 'is-not-biased', 'is-biased', 'is-not-biased', 'is-biased', 'is-biased', 'is-biased', 'is-not-biased', 'is-biased', 'is-biased', 'is-biased', 'is-biased', 'is-biased', 'is-biased', 'is-biased', 'is-biased', 'is-biased', 'is-biased'], 85: ['is-biased', 'is-not-biased', 'is-biased', 'is-not-biased', 'is-not-biased', 'is-not-biased', 'is-biased', 'is-not-biased'], 86: ['is-biased', 'is-not-biased', 'is-biased', 'is-biased', 'is-biased', 'is-biased', 'is-not-biased'], 87: ['is-biased', 'is-biased', 'is-not-biased', 'is-biased', 'is-biased', 'is-not-biased', 'is-not-biased', 'is-not-biased', 'is-biased', 'is-not-biased', 'is-biased'], 88: ['is-biased', 'is-biased', 'is-biased', 'is-not-biased', 'is-not-biased', 'is-biased', 'is-biased'], 89: ['is-biased', 'is-biased', 'is-biased', 'is-biased', 'is-not-biased', 'is-not-biased', 'is-biased', 'is-biased', 'is-biased', 'is-biased', 'is-not-biased'], 90: ['is-biased', 'is-biased', 'is-biased', 'is-not-biased', 'is-biased', 'is-biased', 'is-biased', 'is-biased', 'is-biased', 'is-biased', 'is-not-biased'], 91: ['is-biased', 'is-not-biased', 'is-biased', 'is-not-biased', 'is-not-biased', 'is-biased', 'is-biased', 'is-not-biased', 'is-not-biased'], 92: ['is-not-biased', 'is-not-biased', 'is-not-biased', 'is-biased', 'is-biased', 'is-not-biased', 'is-biased', 'is-not-biased', 'is-biased', 'is-not-biased', 'is-not-biased', 'is-not-biased', 'is-not-biased', 'is-biased', 'is-biased', 'is-biased', 'is-biased', 'is-not-biased', 'is-biased'], 93: ['is-biased', 'is-biased', 'is-biased', 'is-not-biased', 'is-biased', 'is-biased'], 94: ['is-biased', 'is-biased', 'is-biased', 'is-biased', 'is-biased', 'is-biased', 'is-biased', 'is-biased', 'is-not-biased', 'is-biased', 'is-biased', 'is-not-biased', 'is-biased'], 95: ['is-biased', 'is-biased', 'is-not-biased'], 96: ['is-biased', 'is-biased', 'is-not-biased', 'is-not-biased', 'is-biased', 'is-biased', 'is-biased', 'is-biased', 'is-not-biased', 'is-biased', 'is-biased'], 97: ['is-not-biased', 'is-biased', 'is-not-biased'], 98: ['is-biased', 'is-not-biased', 'is-not-biased', 'is-not-biased', 'is-not-biased'], 99: ['is-not-biased', 'is-biased', 'is-not-biased'], 100: ['is-biased', 'is-not-biased', 'is-not-biased'], 101: ['is-biased', 'is-not-biased', 'is-biased', 'is-not-biased', 'is-biased', 'is-not-biased', 'is-biased', 'is-biased', 'is-biased', 'is-biased', 'is-biased', 'is-biased', 'is-biased'], 102: ['is-biased', 'is-biased', 'is-biased', 'is-biased', 'is-not-biased', 'is-biased', 'is-not-biased', 'is-biased', 'is-not-biased', 'is-not-biased', 'is-biased', 'is-not-biased', 'is-biased', 'is-biased', 'is-biased'], 103: ['is-biased', 'is-biased', 'is-biased', 'is-not-biased', 'is-biased', 'is-biased', 'is-not-biased', 'is-biased', 'is-biased', 'is-biased', 'is-not-biased'], 104: ['is-biased', 'is-not-biased', 'is-biased', 'is-biased', 'is-biased'], 105: ['is-not-biased', 'is-not-biased', 'is-biased', 'is-biased', 'is-biased', 'is-biased', 'is-biased', 'is-not-biased', 'is-biased', 'is-biased', 'is-not-biased'], 106: ['is-biased', 'is-biased', 'is-biased', 'is-biased', 'is-biased', 'is-not-biased', 'is-not-biased', 'is-not-biased'], 107: ['is-biased', 'is-biased', 'is-biased', 'is-biased', 'is-biased', 'is-biased'], 108: ['is-biased', 'is-biased', 'is-biased'], 109: ['is-biased', 'is-biased', 'is-biased', 'is-biased', 'is-biased', 'is-not-biased', 'is-not-biased', 'is-biased', 'is-biased', 'is-biased'], 110: ['is-not-biased', 'is-biased', 'is-biased', 'is-biased', 'is-not-biased'], 111: ['is-not-biased', 'is-biased', 'is-biased', 'is-biased', 'is-biased', 'is-not-biased', 'is-biased'], 112: ['is-biased', 'is-biased', 'is-biased', 'is-biased', 'is-biased', 'is-biased', 'is-biased', 'is-biased', 'is-biased', 'is-biased', 'is-not-biased'], 113: ['is-biased', 'is-not-biased'], 114: ['is-biased', 'is-biased', 'is-biased', 'is-biased', 'is-biased', 'is-biased', 'is-biased'], 115: ['is-not-biased', 'is-not-biased', 'is-biased', 'is-biased'], 116: ['is-not-biased', 'is-biased', 'is-not-biased', 'is-biased'], 117: ['is-biased', 'is-biased', 'is-biased', 'is-not-biased', 'is-not-biased', 'is-not-biased', 'is-biased', 'is-biased', 'is-biased', 'is-not-biased', 'is-biased'], 118: ['is-not-biased', 'is-biased', 'is-biased', 'is-biased', 'is-biased', 'is-biased', 'is-biased', 'is-not-biased', 'is-biased', 'is-biased', 'is-biased', 'is-biased'], 119: ['is-biased', 'is-not-biased', 'is-biased', 'is-not-biased'], 120: ['is-not-biased', 'is-not-biased'], 121: ['is-biased', 'is-biased', 'is-not-biased', 'is-biased', 'is-biased', 'is-not-biased', 'is-not-biased', 'is-biased', 'is-not-biased', 'is-not-biased', 'is-not-biased', 'is-biased', 'is-not-biased', 'is-not-biased', 'is-biased', 'is-biased', 'is-biased', 'is-not-biased', 'is-not-biased', 'is-not-biased', 'is-not-biased', 'is-biased', 'is-not-biased', 'is-biased', 'is-not-biased', 'is-not-biased', 'is-biased', 'is-not-biased', 'is-biased', 'is-biased', 'is-biased', 'is-not-biased', 'is-not-biased', 'is-not-biased', 'is-not-biased', 'is-biased', 'is-biased', 'is-biased', 'is-biased', 'is-not-biased', 'is-not-biased', 'is-biased', 'is-not-biased', 'is-biased', 'is-biased'], 122: ['is-biased', 'is-not-biased', 'is-biased', 'is-not-biased', 'is-biased', 'is-not-biased', 'is-not-biased', 'is-biased', 'is-biased', 'is-not-biased', 'is-not-biased', 'is-biased', 'is-not-biased', 'is-not-biased', 'is-biased', 'is-biased', 'is-not-biased', 'is-not-biased', 'is-not-biased', 'is-biased', 'is-not-biased', 'is-not-biased', 'is-not-biased', 'is-biased'], 123: ['is-biased', 'is-biased', 'is-biased', 'is-not-biased', 'is-not-biased'], 124: ['is-not-biased', 'is-biased', 'is-biased', 'is-biased', 'is-not-biased'], 125: ['is-biased', 'is-biased', 'is-not-biased', 'is-not-biased'], 126: ['is-not-biased', 'is-not-biased', 'is-biased', 'is-biased', 'is-biased', 'is-biased', 'is-biased', 'is-biased', 'is-not-biased'], 127: ['is-biased', 'is-biased', 'is-biased', 'is-not-biased', 'is-biased', 'is-biased', 'is-not-biased', 'is-not-biased', 'is-biased', 'is-biased'], 128: ['is-biased', 'is-biased', 'is-biased', 'is-biased', 'is-not-biased', 'is-biased', 'is-biased', 'is-not-biased'], 129: ['is-biased', 'is-biased', 'is-biased', 'is-not-biased', 'is-biased'], 130: ['is-not-biased', 'is-biased', 'is-biased', 'is-not-biased', 'is-not-biased', 'is-biased', 'is-biased', 'is-biased', 'is-biased'], 131: ['is-biased', 'is-not-biased', 'is-not-biased', 'is-biased'], 132: ['is-biased', 'is-not-biased'], 133: ['is-biased', 'is-biased', 'is-not-biased', 'is-biased', 'is-biased', 'is-biased', 'is-not-biased', 'is-not-biased', 'is-biased', 'is-biased'], 134: ['is-biased', 'is-not-biased', 'is-not-biased', 'is-not-biased', 'is-biased', 'is-biased'], 135: ['is-not-biased', 'is-biased', 'is-not-biased', 'is-biased', 'is-biased', 'is-biased', 'is-not-biased'], 136: ['is-biased', 'is-biased'], 137: ['is-not-biased', 'is-not-biased', 'is-biased', 'is-biased', 'is-not-biased'], 138: ['is-biased', 'is-biased', 'is-biased', 'is-biased', 'is-not-biased', 'is-biased', 'is-biased', 'is-not-biased', 'is-biased', 'is-biased', 'is-biased', 'is-biased', 'is-biased', 'is-not-biased', 'is-not-biased', 'is-not-biased', 'is-not-biased', 'is-biased', 'is-biased', 'is-not-biased', 'is-not-biased', 'is-not-biased', 'is-biased', 'is-biased'], 139: ['is-biased', 'is-biased', 'is-biased', 'is-biased', 'is-not-biased', 'is-biased', 'is-biased'], 140: ['is-biased', 'is-not-biased', 'is-biased', 'is-not-biased', 'is-biased', 'is-biased', 'is-biased', 'is-biased'], 141: ['is-not-biased', 'is-biased', 'is-biased', 'is-biased', 'is-biased', 'is-biased', 'is-biased'], 142: ['is-not-biased', 'is-biased', 'is-not-biased', 'is-biased', 'is-biased'], 143: ['is-biased', 'is-not-biased', 'is-not-biased', 'is-not-biased', 'is-biased'], 144: ['is-biased', 'is-not-biased'], 145: ['is-not-biased', 'is-biased'], 146: ['is-biased', 'is-biased', 'is-biased'], 147: ['is-not-biased', 'is-not-biased', 'is-biased', 'is-biased', 'is-biased', 'is-not-biased', 'is-biased'], 148: ['is-biased', 'is-biased', 'is-biased', 'is-not-biased', 'is-biased', 'is-not-biased'], 149: ['is-biased', 'is-biased'], 150: ['is-biased', 'is-biased', 'is-biased', 'is-biased', 'is-not-biased', 'is-biased', 'is-biased', 'is-not-biased'], 151: ['is-not-biased', 'is-biased', 'is-biased', 'is-biased', 'is-not-biased', 'is-not-biased', 'is-biased', 'is-biased', 'is-biased', 'is-not-biased', 'is-not-biased', 'is-not-biased', 'is-biased', 'is-biased', 'is-biased', 'is-not-biased', 'is-biased', 'is-not-biased', 'is-not-biased'], 152: ['is-biased', 'is-biased', 'is-not-biased', 'is-not-biased', 'is-not-biased', 'is-biased', 'is-biased', 'is-biased', 'is-not-biased', 'is-biased'], 153: ['is-biased', 'is-not-biased', 'is-not-biased'], 154: ['is-biased', 'is-biased', 'is-biased', 'is-not-biased', 'is-biased'], 155: ['is-not-biased', 'is-not-biased', 'is-not-biased', 'is-not-biased', 'is-biased'], 156: ['is-biased', 'is-biased', 'is-biased', 'is-biased', 'is-not-biased', 'is-biased'], 157: ['is-not-biased', 'is-not-biased', 'is-biased', 'is-not-biased', 'is-not-biased', 'is-biased'], 158: ['is-biased', 'is-biased', 'is-biased', 'is-biased'], 159: ['is-not-biased', 'is-biased', 'is-not-biased', 'is-biased', 'is-biased', 'is-biased', 'is-not-biased', 'is-not-biased'], 160: ['is-biased', 'is-biased', 'is-not-biased', 'is-not-biased', 'is-biased', 'is-not-biased', 'is-biased'], 161: ['is-biased', 'is-biased', 'is-not-biased', 'is-not-biased', 'is-not-biased', 'is-biased', 'is-biased', 'is-not-biased', 'is-not-biased', 'is-not-biased', 'is-biased', 'is-biased', 'is-biased', 'is-not-biased', 'is-biased', 'is-not-biased', 'is-not-biased', 'is-biased', 'is-not-biased', 'is-not-biased', 'is-biased', 'is-biased'], 162: ['is-biased', 'is-biased'], 163: ['is-biased', 'is-not-biased', 'is-not-biased', 'is-biased', 'is-not-biased', 'is-not-biased', 'is-biased', 'is-biased'], 164: ['is-not-biased', 'is-not-biased', 'is-biased', 'is-not-biased', 'is-not-biased', 'is-not-biased', 'is-biased', 'is-not-biased', 'is-biased', 'is-biased', 'is-biased'], 165: ['is-biased', 'is-not-biased', 'is-biased', 'is-biased'], 166: ['is-biased', 'is-biased', 'is-not-biased', 'is-biased'], 167: ['is-biased', 'is-biased', 'is-not-biased', 'is-not-biased', 'is-not-biased'], 168: ['is-not-biased', 'is-biased', 'is-not-biased', 'is-not-biased', 'is-not-biased', 'is-not-biased'], 169: ['is-biased', 'is-biased', 'is-biased', 'is-not-biased', 'is-biased', 'is-biased', 'is-biased'], 170: ['is-biased', 'is-biased', 'is-not-biased', 'is-biased', 'is-biased', 'is-not-biased', 'is-not-biased', 'is-not-biased', 'is-biased', 'is-not-biased', 'is-not-biased', 'is-biased', 'is-biased', 'is-not-biased', 'is-biased', 'is-not-biased', 'is-not-biased', 'is-biased', 'is-not-biased', 'is-not-biased', 'is-not-biased', 'is-biased'], 171: ['is-biased', 'is-biased', 'is-biased', 'is-biased', 'is-biased'], 172: ['is-not-biased', 'is-biased', 'is-biased', 'is-biased', 'is-not-biased', 'is-biased'], 173: ['is-biased', 'is-biased', 'is-not-biased', 'is-biased', 'is-not-biased', 'is-biased', 'is-biased', 'is-biased', 'is-not-biased', 'is-biased', 'is-biased', 'is-not-biased'], 174: ['is-not-biased', 'is-biased', 'is-not-biased', 'is-biased', 'is-not-biased', 'is-not-biased', 'is-biased', 'is-biased'], 175: ['is-biased', 'is-not-biased'], 176: ['is-not-biased', 'is-biased', 'is-not-biased', 'is-not-biased', 'is-not-biased', 'is-biased', 'is-not-biased', 'is-not-biased', 'is-not-biased', 'is-biased', 'is-biased', 'is-biased', 'is-not-biased', 'is-biased', 'is-biased'], 177: ['is-not-biased', 'is-not-biased', 'is-biased', 'is-biased', 'is-biased', 'is-not-biased', 'is-biased', 'is-biased', 'is-biased', 'is-biased'], 178: ['is-biased', 'is-biased', 'is-not-biased', 'is-not-biased', 'is-biased'], 179: ['is-biased', 'is-biased', 'is-biased'], 180: ['is-biased', 'is-not-biased', 'is-biased', 'is-biased', 'is-biased', 'is-biased', 'is-not-biased', 'is-not-biased', 'is-biased', 'is-not-biased', 'is-not-biased', 'is-biased', 'is-not-biased', 'is-biased', 'is-biased', 'is-not-biased', 'is-biased', 'is-not-biased', 'is-biased'], 181: ['is-biased'], 182: ['is-biased', 'is-biased', 'is-biased', 'is-biased', 'is-biased', 'is-not-biased', 'is-not-biased', 'is-not-biased'], 183: ['is-biased', 'is-biased', 'is-biased', 'is-not-biased'], 184: ['is-not-biased', 'is-biased', 'is-biased', 'is-biased', 'is-biased'], 185: ['is-not-biased', 'is-biased'], 186: ['is-biased', 'is-biased', 'is-biased', 'is-not-biased', 'is-biased', 'is-not-biased'], 187: ['is-biased', 'is-biased', 'is-biased', 'is-biased', 'is-biased', 'is-biased', 'is-biased', 'is-not-biased', 'is-biased', 'is-biased'], 188: ['is-not-biased', 'is-biased'], 189: ['is-biased'], 190: ['is-not-biased'], 191: ['is-not-biased', 'is-not-biased', 'is-not-biased'], 192: ['is-not-biased', 'is-not-biased'], 193: ['is-biased', 'is-not-biased', 'is-biased', 'is-not-biased', 'is-biased'], 194: ['is-not-biased', 'is-biased', 'is-not-biased', 'is-biased', 'is-biased', 'is-biased', 'is-biased'], 195: ['is-biased', 'is-not-biased', 'is-biased', 'is-not-biased', 'is-not-biased'], 196: ['is-biased', 'is-not-biased', 'is-not-biased', 'is-biased', 'is-not-biased', 'is-not-biased', 'is-biased', 'is-not-biased', 'is-biased', 'is-not-biased', 'is-not-biased'], 197: ['is-biased', 'is-biased', 'is-biased'], 198: ['is-biased', 'is-biased', 'is-not-biased', 'is-biased', 'is-not-biased'], 199: ['is-not-biased', 'is-not-biased', 'is-not-biased', 'is-biased', 'is-biased', 'is-not-biased', 'is-not-biased', 'is-biased', 'is-not-biased', 'is-not-biased', 'is-not-biased', 'is-biased', 'is-biased', 'is-not-biased', 'is-not-biased', 'is-not-biased', 'is-not-biased', 'is-biased', 'is-biased', 'is-not-biased', 'is-biased', 'is-not-biased', 'is-biased', 'is-biased', 'is-biased', 'is-not-biased', 'is-not-biased', 'is-not-biased', 'is-not-biased', 'is-biased', 'is-not-biased', 'is-biased', 'is-not-biased', 'is-biased'], 200: ['is-biased'], 201: ['is-biased'], 202: ['is-biased', 'is-biased'], 203: ['is-biased', 'is-biased', 'is-biased'], 204: ['is-biased', 'is-not-biased', 'is-not-biased', 'is-biased', 'is-biased'], 205: ['is-biased', 'is-not-biased', 'is-biased', 'is-not-biased', 'is-biased', 'is-not-biased', 'is-not-biased'], 206: ['is-biased', 'is-biased', 'is-biased'], 207: ['is-biased'], 208: ['is-biased', 'is-biased', 'is-biased', 'is-not-biased', 'is-biased'], 209: ['is-biased', 'is-biased', 'is-biased', 'is-biased', 'is-biased', 'is-biased'], 210: ['is-biased', 'is-not-biased', 'is-biased', 'is-biased', 'is-not-biased'], 211: ['is-biased', 'is-not-biased'], 212: ['is-not-biased', 'is-biased', 'is-not-biased', 'is-biased', 'is-not-biased', 'is-not-biased', 'is-biased', 'is-biased'], 213: ['is-biased', 'is-not-biased'], 214: ['is-biased', 'is-not-biased', 'is-biased', 'is-biased', 'is-not-biased', 'is-not-biased'], 215: ['is-biased', 'is-biased'], 216: ['is-biased', 'is-biased'], 217: ['is-biased', 'is-biased'], 218: ['is-not-biased', 'is-biased', 'is-not-biased', 'is-biased', 'is-biased'], 219: ['is-biased', 'is-not-biased', 'is-not-biased', 'is-biased', 'is-biased', 'is-biased', 'is-not-biased', 'is-not-biased', 'is-not-biased', 'is-not-biased', 'is-not-biased', 'is-biased', 'is-not-biased', 'is-not-biased', 'is-not-biased', 'is-not-biased', 'is-biased', 'is-not-biased', 'is-biased', 'is-not-biased', 'is-not-biased', 'is-biased', 'is-not-biased', 'is-not-biased', 'is-not-biased', 'is-not-biased', 'is-not-biased', 'is-not-biased', 'is-not-biased', 'is-not-biased', 'is-not-biased', 'is-biased', 'is-not-biased', 'is-biased', 'is-biased', 'is-not-biased', 'is-biased', 'is-biased', 'is-not-biased', 'is-not-biased'], 220: ['is-not-biased', 'is-biased', 'is-not-biased', 'is-not-biased', 'is-biased', 'is-biased', 'is-biased', 'is-not-biased', 'is-biased', 'is-biased', 'is-biased', 'is-not-biased', 'is-not-biased', 'is-not-biased'], 221: ['is-biased', 'is-biased', 'is-biased'], 222: ['is-not-biased', 'is-biased', 'is-biased'], 223: ['is-biased', 'is-biased'], 224: ['is-biased', 'is-biased', 'is-not-biased', 'is-not-biased'], 225: ['is-biased', 'is-biased', 'is-biased', 'is-biased', 'is-biased', 'is-biased'], 226: ['is-not-biased'], 227: ['is-not-biased', 'is-biased'], 228: ['is-biased', 'is-biased', 'is-biased', 'is-biased', 'is-biased'], 229: ['is-biased'], 230: ['is-not-biased', 'is-not-biased', 'is-not-biased', 'is-biased', 'is-not-biased', 'is-biased', 'is-biased'], 231: ['is-not-biased', 'is-biased'], 232: ['is-not-biased', 'is-not-biased', 'is-biased', 'is-biased', 'is-biased', 'is-biased', 'is-not-biased', 'is-biased', 'is-biased'], 233: ['is-biased'], 234: ['is-biased', 'is-biased'], 235: ['is-biased', 'is-not-biased', 'is-not-biased', 'is-biased', 'is-biased', 'is-biased', 'is-biased', 'is-biased', 'is-biased', 'is-biased', 'is-biased', 'is-biased', 'is-biased', 'is-biased', 'is-biased', 'is-not-biased', 'is-not-biased', 'is-not-biased', 'is-biased'], 236: ['is-biased'], 237: ['is-biased', 'is-biased', 'is-not-biased', 'is-not-biased', 'is-biased', 'is-not-biased', 'is-biased', 'is-biased', 'is-biased'], 238: ['is-not-biased', 'is-biased'], 239: ['is-biased'], 240: ['is-not-biased', 'is-not-biased', 'is-biased', 'is-biased', 'is-not-biased', 'is-not-biased', 'is-biased'], 241: ['is-biased', 'is-biased'], 242: ['is-biased', 'is-biased', 'is-biased', 'is-not-biased', 'is-biased', 'is-not-biased', 'is-biased', 'is-biased', 'is-biased', 'is-not-biased', 'is-not-biased', 'is-biased'], 243: ['is-biased', 'is-biased', 'is-biased'], 244: ['is-biased', 'is-biased', 'is-not-biased', 'is-biased', 'is-biased', 'is-biased', 'is-biased', 'is-not-biased'], 245: ['is-not-biased', 'is-biased', 'is-not-biased', 'is-biased', 'is-biased'], 246: ['is-not-biased'], 247: ['is-not-biased'], 248: ['is-biased'], 249: ['is-not-biased', 'is-not-biased', 'is-biased', 'is-not-biased', 'is-not-biased', 'is-not-biased', 'is-not-biased', 'is-not-biased', 'is-biased', 'is-biased', 'is-not-biased', 'is-biased'], 250: ['is-not-biased', 'is-biased', 'is-biased'], 251: ['is-not-biased'], 252: ['is-not-biased', 'is-biased', 'is-not-biased', 'is-not-biased', 'is-biased'], 253: ['is-biased', 'is-not-biased', 'is-biased', 'is-not-biased', 'is-biased', 'is-not-biased', 'is-biased', 'is-biased', 'is-biased'], 254: ['is-not-biased', 'is-biased', 'is-biased', 'is-not-biased'], 255: ['is-biased'], 256: ['is-not-biased', 'is-biased', 'is-biased', 'is-biased', 'is-biased', 'is-biased', 'is-biased'], 257: ['is-biased', 'is-not-biased', 'is-not-biased', 'is-biased'], 258: ['is-biased', 'is-biased', 'is-biased'], 259: ['is-biased', 'is-biased', 'is-not-biased'], 260: ['is-not-biased', 'is-not-biased', 'is-biased'], 261: ['is-biased'], 262: ['is-not-biased'], 263: ['is-biased', 'is-biased'], 264: ['is-not-biased', 'is-not-biased', 'is-biased', 'is-not-biased'], 265: ['is-biased', 'is-not-biased', 'is-not-biased', 'is-biased', 'is-biased', 'is-not-biased', 'is-biased', 'is-biased', 'is-not-biased', 'is-not-biased', 'is-biased', 'is-biased'], 266: ['is-biased'], 267: ['is-biased', 'is-not-biased'], 268: ['is-biased', 'is-not-biased', 'is-not-biased', 'is-biased'], 269: ['is-biased', 'is-biased'], 270: ['is-biased'], 271: ['is-biased', 'is-biased', 'is-biased'], 272: ['is-biased'], 273: ['is-biased', 'is-biased'], 274: ['is-biased', 'is-biased', 'is-biased', 'is-biased', 'is-biased'], 275: ['is-biased'], 276: ['is-biased'], 277: ['is-not-biased'], 278: ['is-not-biased', 'is-biased', 'is-not-biased', 'is-not-biased', 'is-not-biased', 'is-not-biased'], 279: ['is-not-biased', 'is-biased'], 280: ['is-not-biased', 'is-biased', 'is-biased', 'is-biased'], 281: ['is-biased'], 282: ['is-biased'], 283: ['is-biased'], 284: ['is-biased'], 285: ['is-biased'], 286: ['is-biased'], 287: ['is-biased', 'is-not-biased'], 288: ['is-not-biased'], 289: ['is-not-biased', 'is-not-biased']}\n"
     ]
    }
   ],
   "source": [
    "import pandas as pd\n",
    "import csv\n",
    "\n",
    "def collect_average_bias_question_for_each_article():\n",
    "    original_prompts = pd.read_csv(\"data/data_prompt_w_articles_info_only.csv\")\n",
    "    article_id = 0\n",
    "    article_info_bias_question = {}\n",
    "    for index, row in original_prompts.iterrows():\n",
    "        if row[\"id\"] == article_id:\n",
    "            if article_id not in article_info_bias_question:\n",
    "                article_info_bias_question[article_id] = []\n",
    "            article_info_bias_question[article_id].append(row[\"bias-question\"])\n",
    "        else:\n",
    "            article_id += 1\n",
    "            article_info_bias_question[article_id] = []\n",
    "            article_info_bias_question[article_id].append(row[\"bias-question\"])\n",
    "    print(\"article_info\", article_info_bias_question)\n",
    "    determine_bias(article_info_bias_question)\n",
    "    return article_info_bias_question\n",
    "\n",
    "def determine_bias (article_info_bias_question):\n",
    "    for article_id, questions in article_info_bias_question.items():\n",
    "        bias_count = questions.count(\"is-biased\")\n",
    "        not_bias_count = questions.count(\"is-not-biased\")\n",
    "        \n",
    "        if bias_count > not_bias_count:\n",
    "            article_info_bias_question[article_id] = \"is-biased\"\n",
    "        elif bias_count < not_bias_count:\n",
    "            article_info_bias_question[article_id] = \"is-not-biased\"\n",
    "        else:\n",
    "            article_info_bias_question[article_id] = \"unknown\"\n",
    "\n",
    "bias_question_for_article_only_prompt = collect_average_bias_question_for_each_article()\n",
    "\n",
    "with open(\"data/bias_question_for_article_only_experiment.csv\", \"w\", newline='') as csvfile:\n",
    "    writer = csv.writer(csvfile)\n",
    "    writer.writerow([\"article_id\", \"bias_question\"])\n",
    "    for article_id, bias_question in bias_question_for_article_only_prompt.items():\n",
    "        writer.writerow([article_id, bias_question])\n",
    "        \n"
   ]
  },
  {
   "cell_type": "code",
   "execution_count": 79,
   "metadata": {},
   "outputs": [],
   "source": [
    "from sklearn.model_selection import train_test_split\n",
    "import json\n",
    "import os\n",
    "\n",
    "def generate_prompt(system_content, article_detail, expected_result):\n",
    "    user_question = \"Determine if this article biased based on the user point of view?\"\n",
    "    message = {\n",
    "        \"messages\": [{\n",
    "        \"role\": \"system\", \n",
    "        \"content\": system_content,\n",
    "        },\n",
    "        {\n",
    "            \"role\": \"user\",\n",
    "            \"content\": article_detail + \"\\n\" + user_question\n",
    "        },\n",
    "        {\n",
    "            \"role\": \"assistant\",\n",
    "            \"content\": expected_result\n",
    "        }\n",
    "                           \n",
    "        ]}\n",
    "    return message\n",
    "\n",
    "def generate_prompts(system_content, prompts, expected_results, output_path):\n",
    "    messages = []\n",
    "    for i in range(len(prompts)):\n",
    "        article_detail = prompts[i]\n",
    "        expected_result = expected_results[i]\n",
    "        message = generate_prompt(system_content, article_detail, expected_result)\n",
    "        messages.append(message)\n",
    "    \n",
    "    # Write messages to a JSONL file\n",
    "    with open(output_path, 'w') as jsonl_file:\n",
    "        for message in messages:\n",
    "            jsonl_file.write(json.dumps(message) + '\\n')\n",
    "\n",
    "\n",
    "def collecting_test_and_train_set(file_path, experiment_name):\n",
    "    # Load the CSV file into a DataFrame\n",
    "    df = pd.read_csv(file_path)\n",
    "\n",
    "    # Split the DataFrame into training and test sets\n",
    "    train_df, test_df = train_test_split(df, test_size=0.2, random_state=42)\n",
    "\n",
    "    parent_directory = 'data/gpt_prompts/' + experiment_name\n",
    "    # Create the directory if it does not exist\n",
    "    os.makedirs(parent_directory, exist_ok=True)\n",
    "    # Save the training and test sets to new CSV files\n",
    "    train_df.to_csv(parent_directory + '/train_set.csv', index=False)\n",
    "    test_df.to_csv(parent_directory + '/test_set.csv', index=False)\n",
    "    \n",
    "def collecting_prompts_through_article_id(ids, experiment_name):\n",
    "    \n",
    "    ids.sort()\n",
    "    data = pd.read_csv(\"data/prompts.csv\")\n",
    "    prompts = []\n",
    "    row_index = 0\n",
    "    for index, row in data.iterrows():\n",
    "        if row[\"article_id\"] == ids[row_index]:\n",
    "            prompts.append(row[experiment_name])\n",
    "            row_index += 1\n",
    "            if row_index == len(ids):\n",
    "                break\n",
    "    return prompts"
   ]
  },
  {
   "cell_type": "code",
   "execution_count": 80,
   "metadata": {},
   "outputs": [],
   "source": [
    "# generate prompts for article only experiment\n",
    "def generate_prompts_for_article_only_experiment():\n",
    "    system_content = \"You are going to be the reader of a political article. Your job is to determine whether the article is biased based on reader point of view. You answer either is-biased or is-not-biased, with no explanation. An article is-biased in its presentation of the topic, meaning that it ever exaggerates, misrepresents, omits, or otherwise distorts facts (including by making subjective opinions look like facts) for the purpose of appealing to a certain political group.\\n\"\n",
    "    \n",
    "    collecting_test_and_train_set(\"data/bias_question_for_article_only_experiment.csv\", \"article_only_experiment\")\n",
    "    train_df = pd.read_csv(\"data/gpt_prompts/article_only_experiment/train_set.csv\")\n",
    "    test_df = pd.read_csv(\"data/gpt_prompts/article_only_experiment/test_set.csv\")\n",
    "    \n",
    "    train_prompts = collecting_prompts_through_article_id(list(train_df[\"article_id\"]), \"prompt_article_info\")\n",
    "    test_prompts = collecting_prompts_through_article_id(list(test_df[\"article_id\"]), \"prompt_article_info\")\n",
    "    generate_prompts(system_content, train_prompts, train_df[\"bias_question\"].replace('unknown', 'is_not_biased'), \"data/gpt_prompts/article_only_experiment/train_set.jsonl\")\n",
    "    generate_prompts(system_content, test_prompts, test_df[\"bias_question\"].replace('unknown', 'is_not_biased'), \"data/gpt_prompts/article_only_experiment/test_set.jsonl\")\n",
    "    \n",
    "generate_prompts_for_article_only_experiment()"
   ]
  },
  {
   "cell_type": "code",
   "execution_count": 70,
   "metadata": {},
   "outputs": [],
   "source": [
    "# copy bias - question to prompts.csv\n",
    "import pandas as pd\n",
    "\n",
    "df = pd.read_csv(\"data/prompts.csv\")\n",
    "original_data = pd.read_csv(\"data/data_articles_info.csv\", usecols=['id', 'bias-question'])\n",
    "\n",
    "\n",
    "merged_data = pd.merge(df, original_data, on='id', how='left', validate='one_to_one')\n",
    "\n",
    "\n",
    "merged_data.to_csv(\"data/prompts.csv\", index=False)\n"
   ]
  },
  {
   "cell_type": "code",
   "execution_count": 81,
   "metadata": {},
   "outputs": [],
   "source": [
    "# Generate prompt for article with politics info experiment\n",
    "def generate_prompts_for_article_w_politics_info_experiment():\n",
    "    system_content = \"You are going to be the reader of a political article. Your job is to determine whether the article is biased based on the Reader identifies politics group. You answer either is-biased or is-not-biased, with no explanation. An article is-biased in its presentation of the topic, meaning that it ever exaggerates, misrepresents, omits, or otherwise distorts facts (including by making subjective opinions look like facts) for the purpose of appealing to a certain political group.\\n\"\n",
    "    \n",
    "    collecting_test_and_train_set(\"data/prompts.csv\", \"article_w_politics_info_experiment\")\n",
    "    train_df = pd.read_csv(\"data/gpt_prompts/article_w_politics_info_experiment/train_set.csv\")\n",
    "    test_df = pd.read_csv(\"data/gpt_prompts/article_w_politics_info_experiment/test_set.csv\")\n",
    "    \n",
    "    generate_prompts(system_content, train_df[\"prompt_politics_info\"], train_df[\"bias-question\"], \"data/gpt_prompts/article_w_politics_info_experiment/train_set.jsonl\")\n",
    "    generate_prompts(system_content, test_df[\"prompt_politics_info\"], test_df[\"bias-question\"], \"data/gpt_prompts/article_w_politics_info_experiment/test_set.jsonl\")\n",
    "    \n",
    "generate_prompts_for_article_w_politics_info_experiment()"
   ]
  },
  {
   "cell_type": "code",
   "execution_count": 82,
   "metadata": {},
   "outputs": [],
   "source": [
    "# Generate prompt for article with politics info experiment\n",
    "def generate_prompts_for_article_w_letter_source_info_experiment():\n",
    "    system_content = \"You are going to be the reader of a political article. Your job is to determine whether the article is biased. And take source of the article into consideration to provide answer. You answer either is-biased or is-not-biased, with no explanation. An article is-biased in its presentation of the topic, meaning that it ever exaggerates, misrepresents, omits, or otherwise distorts facts (including by making subjective opinions look like facts) for the purpose of appealing to a certain political group.\\n\"\n",
    "    \n",
    "    collecting_test_and_train_set(\"data/prompts.csv\", \"article_w_source_info_experiment\")\n",
    "    train_df = pd.read_csv(\"data/gpt_prompts/article_w_source_info_experiment/train_set.csv\")\n",
    "    test_df = pd.read_csv(\"data/gpt_prompts/article_w_source_info_experiment/test_set.csv\")\n",
    "    \n",
    "    generate_prompts(system_content, train_df[\"prompt_letter_source_info\"], train_df[\"bias-question\"], \"data/gpt_prompts/article_w_source_info_experiment/train_set.jsonl\")\n",
    "    generate_prompts(system_content, test_df[\"prompt_letter_source_info\"], test_df[\"bias-question\"], \"data/gpt_prompts/article_w_source_info_experiment/test_set.jsonl\")\n",
    "    \n",
    "generate_prompts_for_article_w_letter_source_info_experiment()"
   ]
  },
  {
   "cell_type": "code",
   "execution_count": 83,
   "metadata": {},
   "outputs": [],
   "source": [
    "# Generate prompt for article with all info experiment\n",
    "\n",
    "def generate_prompts_for_article_w_all_info_experiment():\n",
    "    system_content = \"You are going to be the reader of a political article. Your job is to determine whether the article is biased. And take all the anticipants information into consideration to provide answer, which include Reader Demographics information, Readers' politics group and article source. You answer either is-biased or is-not-biased, with no explanation. An article is-biased in its presentation of the topic, meaning that it ever exaggerates, misrepresents, omits, or otherwise distorts facts (including by making subjective opinions look like facts) for the purpose of appealing to a certain political group.\\n\"\n",
    "    \n",
    "    collecting_test_and_train_set(\"data/prompts.csv\", \"article_w_all_info_experiment\")\n",
    "    train_df = pd.read_csv(\"data/gpt_prompts/article_w_all_info_experiment/train_set.csv\")\n",
    "    test_df = pd.read_csv(\"data/gpt_prompts/article_w_all_info_experiment/test_set.csv\")\n",
    "    \n",
    "    generate_prompts(system_content, train_df[\"prompt_all_info\"], train_df[\"bias-question\"], \"data/gpt_prompts/article_w_all_info_experiment/train_set.jsonl\")\n",
    "    generate_prompts(system_content, test_df[\"prompt_all_info\"], test_df[\"bias-question\"], \"data/gpt_prompts/article_w_all_info_experiment/test_set.jsonl\")\n",
    "    \n",
    "generate_prompts_for_article_w_all_info_experiment()"
   ]
  },
  {
   "cell_type": "markdown",
   "metadata": {},
   "source": [
    "# Fine tuning"
   ]
  },
  {
   "cell_type": "code",
   "execution_count": 84,
   "metadata": {},
   "outputs": [],
   "source": [
    "from openai import OpenAI\n",
    "from dotenv import load_dotenv\n",
    "import os\n",
    "\n",
    "load_dotenv()\n",
    "client = OpenAI(api_key=os.getenv(\"OPENAI_API_KEY\"))"
   ]
  },
  {
   "cell_type": "markdown",
   "metadata": {},
   "source": [
    "## Article Only Experiment"
   ]
  },
  {
   "cell_type": "markdown",
   "metadata": {},
   "source": [
    "### Uploading File"
   ]
  },
  {
   "cell_type": "code",
   "execution_count": 85,
   "metadata": {},
   "outputs": [],
   "source": [
    "# Load article only experiment training file\n",
    "\n",
    "article_only_experiment_file = client.files.create(\n",
    "  file=open(\"data/gpt_prompts/article_only_experiment/train_set.jsonl\", \"rb\"),\n",
    "  purpose=\"fine-tune\"\n",
    ")"
   ]
  },
  {
   "cell_type": "markdown",
   "metadata": {},
   "source": [
    "### Fine-tune model "
   ]
  },
  {
   "cell_type": "code",
   "execution_count": 86,
   "metadata": {},
   "outputs": [],
   "source": [
    "job = client.fine_tuning.jobs.create(\n",
    "    training_file = article_only_experiment_file.id,\n",
    "    model = \"gpt-3.5-turbo\"\n",
    ")"
   ]
  },
  {
   "cell_type": "code",
   "execution_count": 105,
   "metadata": {},
   "outputs": [],
   "source": [
    "job_id = job.id"
   ]
  },
  {
   "cell_type": "markdown",
   "metadata": {},
   "source": [
    "### Once your model is trained, run the next cell to grab the fine-tuned model name."
   ]
  },
  {
   "cell_type": "code",
   "execution_count": 107,
   "metadata": {},
   "outputs": [
    {
     "name": "stdout",
     "output_type": "stream",
     "text": [
      "ft:gpt-3.5-turbo-0125:lmucs-keck-faculty::9PtCLgRv\n"
     ]
    }
   ],
   "source": [
    "article_only_experiment_model_pre_object = client.fine_tuning.jobs.retrieve(job_id)\n",
    "article_only_experiment_model_name = article_only_experiment_model_pre_object.fine_tuned_model\n",
    "print(article_only_experiment_model_name)"
   ]
  },
  {
   "cell_type": "markdown",
   "metadata": {},
   "source": [
    "### Collecting data"
   ]
  },
  {
   "cell_type": "code",
   "execution_count": 111,
   "metadata": {},
   "outputs": [],
   "source": [
    "# Loop through the training set and collect the result\n",
    "file_path = \"data/gpt_prompts/article_only_experiment/test_set.jsonl\"\n",
    "bias_questions = []\n",
    "with open(file_path, 'r', encoding='utf-8') as file:\n",
    "    for line in file:\n",
    "        # Parse the JSON object\n",
    "        data = json.loads(line.strip())\n",
    "        messages_with_answer = list(data.values())[0]\n",
    "        messages_without_answer = messages_with_answer[:2]\n",
    "        \n",
    "        # Perform gpt query on fine tune model\n",
    "        completion = client.chat.completions.create(\n",
    "            model= article_only_experiment_model_name,\n",
    "            messages= messages_without_answer,\n",
    "        )\n",
    "\n",
    "        bias_questions.append(completion.choices[0].message.content)\n",
    "\n",
    "# Save the results to a CSV file\n",
    "test_file_path = \"data/gpt_prompts/article_only_experiment/test_set.csv\"\n",
    "parent_directory = 'result_data/fine_tuning_gpt/article_only_experiment' \n",
    "# Create the directory if it does not exist\n",
    "os.makedirs(parent_directory, exist_ok=True)\n",
    "result_file_path = parent_directory + '/result.csv'\n",
    "df = pd.read_csv(test_file_path)\n",
    "df[\"gpt_3.5_turbo_result\"] = bias_questions\n",
    "df.to_csv(result_file_path, index = False)      "
   ]
  },
  {
   "cell_type": "markdown",
   "metadata": {},
   "source": [
    "## Article with Politics Info Experiment"
   ]
  },
  {
   "cell_type": "markdown",
   "metadata": {},
   "source": [
    "### Uploading training file"
   ]
  },
  {
   "cell_type": "code",
   "execution_count": 118,
   "metadata": {},
   "outputs": [],
   "source": [
    "# Load article with politics info experiment training file\n",
    "\n",
    "article_w_politics_info_experiment_file = client.files.create(\n",
    "  file=open(\"data/gpt_prompts/article_w_politics_info_experiment/train_set.jsonl\", \"rb\"),\n",
    "  purpose=\"fine-tune\"\n",
    ")"
   ]
  },
  {
   "cell_type": "markdown",
   "metadata": {},
   "source": [
    "### Fine-tune model "
   ]
  },
  {
   "cell_type": "code",
   "execution_count": 119,
   "metadata": {},
   "outputs": [],
   "source": [
    "job2 = client.fine_tuning.jobs.create(\n",
    "    training_file = article_w_politics_info_experiment_file.id,\n",
    "    model = \"gpt-3.5-turbo\"\n",
    ")\n",
    "\n",
    "job2_id = job2.id"
   ]
  },
  {
   "cell_type": "markdown",
   "metadata": {},
   "source": [
    "### Once your model is trained, run the next cell to grab the fine-tuned model name."
   ]
  },
  {
   "cell_type": "code",
   "execution_count": null,
   "metadata": {},
   "outputs": [],
   "source": [
    "article_w_politics_info_experiment_model_pre_object = client.fine_tuning.jobs.retrieve(job2_id)\n",
    "article_w_politics_info_experiment_model_name = article_w_politics_info_experiment_model_pre_object.fine_tuned_model\n",
    "print(article_w_politics_info_experiment_model_pre_object)"
   ]
  },
  {
   "cell_type": "markdown",
   "metadata": {},
   "source": [
    "### Collecting data"
   ]
  },
  {
   "cell_type": "code",
   "execution_count": null,
   "metadata": {},
   "outputs": [],
   "source": [
    "# Loop through the training set and collect the result\n",
    "file_path = \"data/gpt_prompts/article_w_politics_info_experiment/test_set.jsonl\"\n",
    "bias_questions = []\n",
    "with open(file_path, 'r', encoding='utf-8') as file:\n",
    "    for line in file:\n",
    "        # Parse the JSON object\n",
    "        data = json.loads(line.strip())\n",
    "        messages_with_answer = list(data.values())[0]\n",
    "        messages_without_answer = messages_with_answer[:2]\n",
    "        \n",
    "        # Perform gpt query on fine tune model\n",
    "        completion = client.chat.completions.create(\n",
    "            model= article_only_experiment_model_name,\n",
    "            messages= messages_without_answer,\n",
    "        )\n",
    "\n",
    "        bias_questions.append(completion.choices[0].message.content)"
   ]
  },
  {
   "cell_type": "code",
   "execution_count": null,
   "metadata": {},
   "outputs": [],
   "source": [
    "# Save the results to a CSV file\n",
    "test_file_path = \"data/gpt_prompts/article_w_politics_info_experiment/test_set.csv\"\n",
    "parent_directory = 'result_data/fine_tuning_gpt/article_w_politics_info_experiment' \n",
    "# Create the directory if it does not exist\n",
    "os.makedirs(parent_directory, exist_ok=True)\n",
    "result_file_path = parent_directory + \"/result.csv\"\n",
    "df = pd.read_csv(test_file_path, usecols = [\"article_id\", \"id\", \"bias-question\"])\n",
    "df[\"gpt_3.5_turbo_result\"] = bias_questions\n",
    "df.to_csv(result_file_path, index = False)  "
   ]
  },
  {
   "cell_type": "markdown",
   "metadata": {},
   "source": [
    "## Article with Source Info Experiment"
   ]
  },
  {
   "cell_type": "markdown",
   "metadata": {},
   "source": [
    "### Uploading training file"
   ]
  },
  {
   "cell_type": "code",
   "execution_count": null,
   "metadata": {},
   "outputs": [],
   "source": [
    "article_w_source_info_experiment_file = client.files.create(\n",
    "  file=open(\"data/gpt_prompts/article_w_source_info_experiment/train_set.jsonl\", \"rb\"),\n",
    "  purpose=\"fine-tune\"\n",
    ")"
   ]
  },
  {
   "cell_type": "markdown",
   "metadata": {},
   "source": [
    "### Fine tune model"
   ]
  },
  {
   "cell_type": "code",
   "execution_count": null,
   "metadata": {},
   "outputs": [],
   "source": [
    "job3 = client.fine_tuning.jobs.create(\n",
    "    training_file = article_w_source_info_experiment_file.id,\n",
    "    model = \"gpt-3.5-turbo\"\n",
    ")\n",
    "\n",
    "job3_id = job3.id"
   ]
  },
  {
   "cell_type": "code",
   "execution_count": null,
   "metadata": {},
   "outputs": [],
   "source": [
    "article_w_source_info_experiment_model_pre_object = client.fine_tuning.jobs.retrieve(job3_id)\n",
    "article_w_source_info_experiment_model_name = article_w_source_info_experiment_model_pre_object.fine_tuned_model\n",
    "print(article_w_source_info_experiment_model_pre_object)"
   ]
  },
  {
   "cell_type": "markdown",
   "metadata": {},
   "source": [
    "### Collecting test result"
   ]
  },
  {
   "cell_type": "code",
   "execution_count": null,
   "metadata": {},
   "outputs": [],
   "source": [
    "# Loop through the training set and collect the result\n",
    "file_path = \"data/gpt_prompts/article_w_source_info_experiment/test_set.jsonl\"\n",
    "bias_questions = []\n",
    "with open(file_path, 'r', encoding='utf-8') as file:\n",
    "    for line in file:\n",
    "        # Parse the JSON object\n",
    "        data = json.loads(line.strip())\n",
    "        messages_with_answer = list(data.values())[0]\n",
    "        messages_without_answer = messages_with_answer[:2]\n",
    "        \n",
    "        # Perform gpt query on fine tune model\n",
    "        completion = client.chat.completions.create(\n",
    "            model= article_only_experiment_model_name,\n",
    "            messages= messages_without_answer,\n",
    "        )\n",
    "\n",
    "        bias_questions.append(completion.choices[0].message.content)"
   ]
  },
  {
   "cell_type": "code",
   "execution_count": null,
   "metadata": {},
   "outputs": [],
   "source": [
    "# Save the results to a CSV file\n",
    "test_file_path = \"data/gpt_prompts/article_w_source_info_experiment/test_set.csv\"\n",
    "parent_directory = 'result_data/fine_tuning_gpt/article_w_source_info_experiment' \n",
    "# Create the directory if it does not exist\n",
    "os.makedirs(parent_directory, exist_ok=True)\n",
    "result_file_path = parent_directory + \"/result.csv\"\n",
    "df = pd.read_csv(test_file_path, usecols = [\"article_id\", \"id\", \"bias-question\"])\n",
    "df[\"gpt_3.5_turbo_result\"] = bias_questions\n",
    "df.to_csv(result_file_path, index = False)  "
   ]
  },
  {
   "cell_type": "markdown",
   "metadata": {},
   "source": [
    "## Article with All Info Experiment"
   ]
  },
  {
   "cell_type": "markdown",
   "metadata": {},
   "source": [
    "### Uploading training file"
   ]
  },
  {
   "cell_type": "code",
   "execution_count": null,
   "metadata": {},
   "outputs": [],
   "source": [
    "article_w_all_info_experiment_file = client.files.create(\n",
    "  file=open(\"data/gpt_prompts/article_w_all_info_experiment/train_set.jsonl\", \"rb\"),\n",
    "  purpose=\"fine-tune\"\n",
    ")"
   ]
  },
  {
   "cell_type": "markdown",
   "metadata": {},
   "source": [
    "### Fine-tune model"
   ]
  },
  {
   "cell_type": "code",
   "execution_count": null,
   "metadata": {},
   "outputs": [],
   "source": [
    "job3 = client.fine_tuning.jobs.create(\n",
    "    training_file = article_w_all_info_experiment_file.id,\n",
    "    model = \"gpt-3.5-turbo\"\n",
    ")\n",
    "\n",
    "job3_id = job3.id"
   ]
  },
  {
   "cell_type": "code",
   "execution_count": null,
   "metadata": {},
   "outputs": [],
   "source": [
    "article_w_all_info_experiment_model_pre_object = client.fine_tuning.jobs.retrieve(job3_id)\n",
    "article_w_all_info_experiment_model_name = article_w_all_info_experiment_model_pre_object.fine_tuned_model\n",
    "print(article_w_all_info_experiment_model_pre_object)"
   ]
  },
  {
   "cell_type": "markdown",
   "metadata": {},
   "source": [
    "### Collecting data"
   ]
  },
  {
   "cell_type": "code",
   "execution_count": null,
   "metadata": {},
   "outputs": [],
   "source": [
    "# Loop through the training set and collect the result\n",
    "file_path = \"data/gpt_prompts/article_w_all_info_experiment/test_set.jsonl\"\n",
    "bias_questions = []\n",
    "with open(file_path, 'r', encoding='utf-8') as file:\n",
    "    for line in file:\n",
    "        # Parse the JSON object\n",
    "        data = json.loads(line.strip())\n",
    "        messages_with_answer = list(data.values())[0]\n",
    "        messages_without_answer = messages_with_answer[:2]\n",
    "        \n",
    "        # Perform gpt query on fine tune model\n",
    "        completion = client.chat.completions.create(\n",
    "            model= article_only_experiment_model_name,\n",
    "            messages= messages_without_answer,\n",
    "        )\n",
    "\n",
    "        bias_questions.append(completion.choices[0].message.content)"
   ]
  },
  {
   "cell_type": "code",
   "execution_count": null,
   "metadata": {},
   "outputs": [],
   "source": [
    "# Save the results to a CSV file\n",
    "test_file_path = \"data/gpt_prompts/article_w_all_info_experiment/test_set.csv\"\n",
    "parent_directory = 'result_data/fine_tuning_gpt/article_w_all_info_experiment' \n",
    "# Create the directory if it does not exist\n",
    "os.makedirs(parent_directory, exist_ok=True)\n",
    "result_file_path = parent_directory + \"/result.csv\"\n",
    "df = pd.read_csv(test_file_path, usecols = [\"article_id\", \"id\", \"bias-question\"])\n",
    "df[\"gpt_3.5_turbo_result\"] = bias_questions\n",
    "df.to_csv(result_file_path, index = False)  "
   ]
  }
 ],
 "metadata": {
  "kernelspec": {
   "display_name": ".venv",
   "language": "python",
   "name": "python3"
  },
  "language_info": {
   "codemirror_mode": {
    "name": "ipython",
    "version": 3
   },
   "file_extension": ".py",
   "mimetype": "text/x-python",
   "name": "python",
   "nbconvert_exporter": "python",
   "pygments_lexer": "ipython3",
   "version": "3.10.7"
  }
 },
 "nbformat": 4,
 "nbformat_minor": 2
}
